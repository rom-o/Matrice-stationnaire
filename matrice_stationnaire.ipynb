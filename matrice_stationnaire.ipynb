{
  "nbformat": 4,
  "nbformat_minor": 0,
  "metadata": {
    "colab": {
      "provenance": []
    },
    "kernelspec": {
      "name": "python3",
      "display_name": "Python 3"
    },
    "language_info": {
      "name": "python"
    }
  },
  "cells": [
    {
      "cell_type": "markdown",
      "source": [
        "#TP2 :   CALCULER LA MATRICE STATIONNAIRE  P*"
      ],
      "metadata": {
        "id": "LjTD7D9ERmCt"
      }
    },
    {
      "cell_type": "markdown",
      "source": [
        "  **Réalisé par:**  ROM OUMAYMA                                            \n",
        "              **Encadrer par :** Prof.Driss Ait Omar"
      ],
      "metadata": {
        "id": "qVG0rlbP39-5"
      }
    },
    {
      "cell_type": "markdown",
      "source": [
        "##ETAPE  1 : Trouver les classes récurrentes et les états transitoires"
      ],
      "metadata": {
        "id": "yU8YUnz-TlsV"
      }
    },
    {
      "cell_type": "code",
      "source": [
        "# Fonction pour determiner les etats qui peuvent etre atteints depuis un etat donner dans une chaine M\n",
        "def reachable_states(P, state):\n",
        "    n = P.shape[0]\n",
        "    reachable = set([state])\n",
        "    stack = [state]\n",
        "\n",
        "    while stack:\n",
        "        current = stack.pop()\n",
        "        for next_state in range(n):\n",
        "            if P[current, next_state] > 0 and next_state not in reachable:\n",
        "                reachable.add(next_state)\n",
        "                stack.append(next_state)\n",
        "\n",
        "    return reachable\n",
        "\n",
        "# Fonction pour trouver les classes recurrentes\n",
        "def communication_class(P, state):\n",
        "    reachable_from_state = reachable_states(P, state)\n",
        "    reachable_to_state = reachable_states(P.T, state)\n",
        "    return reachable_from_state.intersection(reachable_to_state)\n",
        "\n",
        "def find_recurrent_classes(P):\n",
        "    n = P.shape[0]\n",
        "    visited = set()\n",
        "    recurrent_classes = []\n",
        "\n",
        "    for i in range(n):\n",
        "        if i not in visited:\n",
        "            current_class = communication_class(P, i)\n",
        "            is_recurrent = True\n",
        "            for state in current_class:\n",
        "                for next_state in range(n):\n",
        "                    if P[state, next_state] > 0 and next_state not in current_class:\n",
        "                        is_recurrent = False\n",
        "                        break\n",
        "                if not is_recurrent:\n",
        "                    break\n",
        "            if is_recurrent:\n",
        "                recurrent_classes.append(current_class)\n",
        "            visited.update(current_class)\n",
        "\n",
        "    return recurrent_classes\n",
        "\n",
        "\n",
        "# Fonction pour trouver les etats transitoires\n",
        "def find_transient_states(P):\n",
        "    recurrent_classes = find_recurrent_classes(P)\n",
        "\n",
        "    recurrent_states = set()\n",
        "    for recurrent_class in recurrent_classes:\n",
        "        recurrent_states.update(recurrent_class)\n",
        "\n",
        "    transient_states = {i for i in range(P.shape[0]) if i not in recurrent_states}\n",
        "\n",
        "    return transient_states"
      ],
      "metadata": {
        "id": "O4T4RL-ETic3"
      },
      "execution_count": null,
      "outputs": []
    },
    {
      "cell_type": "markdown",
      "source": [
        "##ETAPE 2 : Resolution du systeme stationnaire pour chaque classe recurrente Ek"
      ],
      "metadata": {
        "id": "M5I9zMpKUyql"
      }
    },
    {
      "cell_type": "code",
      "source": [
        "\n",
        "\n",
        "def solve_stationary_for_class(P, recurrent_class):\n",
        "    n = len(recurrent_class)\n",
        "    A = np.eye(n) - P[np.ix_(recurrent_class, recurrent_class)].T\n",
        "    A[-1, :] = np.ones(n)  # Contrainte de somme = 1\n",
        "    b = np.zeros(n)\n",
        "    b[-1] = 1\n",
        "    pi_class = np.linalg.solve(A, b)\n",
        "\n",
        "    return pi_class\n",
        "\n",
        "# Fonction pour calculer la matrice stationnaire\n",
        "def calculate_stationary_matrix(P):\n",
        "    recurrent_classes = find_recurrent_classes(P)\n",
        "    transient_states = find_transient_states(P)\n",
        "\n",
        "    n = P.shape[0]\n",
        "    stationary_matrix = np.zeros((n, n))\n",
        "\n",
        "    for rec_class in recurrent_classes:\n",
        "        sorted_class = sorted(list(rec_class))\n",
        "        pi_class = solve_stationary_for_class(P, sorted_class)\n",
        "        for state in sorted_class:\n",
        "            stationary_matrix[state, sorted_class] = pi_class\n",
        "\n",
        "\n",
        "    # Gestion des états transitoires\n",
        "    for i in transient_states:\n",
        "        # Somme des contributions de tous les états accessibles\n",
        "        stationary_matrix[i, :] = np.sum([P[i, j] * stationary_matrix[j, :] for j in range(n)], axis=0)\n",
        "        # Normalisation pour éviter la somme nulle\n",
        "        if np.sum(stationary_matrix[i, :]) > 0:  # Vérification pour éviter la division par zéro\n",
        "            stationary_matrix[i, :] /= np.sum(stationary_matrix[i, :])\n",
        "\n",
        "    return stationary_matrix\n"
      ],
      "metadata": {
        "id": "-Y6aGcZOU32z"
      },
      "execution_count": null,
      "outputs": []
    },
    {
      "cell_type": "markdown",
      "source": [
        "##ETAPE 3 :Organiser les probabilités stationnaires 𝑃*\n",
        "\n"
      ],
      "metadata": {
        "id": "b8rFzfFTU6p1"
      }
    },
    {
      "cell_type": "code",
      "source": [
        "# Fonction pour reorganiser la matrice stationnaire\n",
        "def reorder_stationary_matrix(P, stationary_matrix):\n",
        "    recurrent_classes = find_recurrent_classes(P)\n",
        "    transient_states = find_transient_states(P)\n",
        "\n",
        "    new_order = []\n",
        "    for rec_class in recurrent_classes:\n",
        "        new_order.extend(sorted(list(rec_class)))\n",
        "    new_order.extend(sorted(list(transient_states)))\n",
        "\n",
        "    reordered_matrix = stationary_matrix[np.ix_(new_order, new_order)]\n",
        "\n",
        "    return reordered_matrix, new_order"
      ],
      "metadata": {
        "id": "UT8sEoT0U9uu"
      },
      "execution_count": null,
      "outputs": []
    },
    {
      "cell_type": "markdown",
      "source": [
        "#EXEMPLE\n"
      ],
      "metadata": {
        "id": "SxtoO4sCT_oX"
      }
    },
    {
      "cell_type": "code",
      "source": [
        "import numpy as np\n",
        "\n",
        "# Exemple de matrice de transition P\n",
        "P = np.array([[0.5, 0.5, 0, 0, 0, 0],\n",
        "              [2/3, 1/3, 0, 0, 0, 0],\n",
        "              [0, 0, 0.5, 0.5, 0, 0],\n",
        "              [0, 0, 0, 0, 1, 0],\n",
        "              [0, 0, 0, 1, 0, 0],\n",
        "              [0, 0, 1, 0, 0, 0]])\n",
        "\n",
        "\n",
        "# Appel des fonctions\n",
        "recurrent_classes = find_recurrent_classes(P)\n",
        "transient_states = find_transient_states(P)\n",
        "\n",
        "print(f\"Classes récurrentes : {[{s + 1 for s in cl} for cl in recurrent_classes]}\")\n",
        "print(f\"États transitoires : {[s + 1 for s in transient_states]}\")\n",
        "\n",
        "# Calcul de la matrice stationnaire\n",
        "stationary_matrix = calculate_stationary_matrix(P)\n",
        "\n",
        "# Rorganiser la matrice\n",
        "reordered_matrix, new_order = reorder_stationary_matrix(P, stationary_matrix)\n",
        "\n",
        "# Affichage\n",
        "print(\"Matrice stationnaire après ordre des états :\", [i + 1 for i in new_order])\n",
        "print(np.array2string(reordered_matrix, separator=', ', formatter={'float_kind':lambda x: f'{x:.2f}'}))"
      ],
      "metadata": {
        "colab": {
          "base_uri": "https://localhost:8080/"
        },
        "id": "wtQOJIU5T8nI",
        "outputId": "8d2f838b-9bc0-4765-8938-a4e18f7843d2"
      },
      "execution_count": null,
      "outputs": [
        {
          "output_type": "stream",
          "name": "stdout",
          "text": [
            "Classes récurrentes : [{1, 2}, {4, 5}]\n",
            "États transitoires : [3, 6]\n",
            "Matrice stationnaire après ordre des états : [1, 2, 4, 5, 3, 6]\n",
            "[[0.57, 0.43, 0.00, 0.00, 0.00, 0.00],\n",
            " [0.57, 0.43, 0.00, 0.00, 0.00, 0.00],\n",
            " [0.00, 0.00, 0.50, 0.50, 0.00, 0.00],\n",
            " [0.00, 0.00, 0.50, 0.50, 0.00, 0.00],\n",
            " [0.00, 0.00, 0.50, 0.50, 0.00, 0.00],\n",
            " [0.00, 0.00, 0.50, 0.50, 0.00, 0.00]]\n"
          ]
        }
      ]
    }
  ]
}